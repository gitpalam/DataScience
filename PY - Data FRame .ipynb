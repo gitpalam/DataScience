{
    "cells": [
        {
            "metadata": {},
            "cell_type": "markdown",
            "source": "# Dictionary\n##### Ways to create DIctionary "
        },
        {
            "metadata": {},
            "cell_type": "code",
            "source": "## Dictionary\ngrades = {1,2,3,4,5,6,7}\n\nprint (\"grades dictionary :\",grades,\"\\n\\n\")\ndict1= grades ## THis is a pointer; IF grades is modified , dict1 will be modified\nprint (\"Dict 1 copied over from grades dictionary:\",dict1,\"\\n\\n\")\n\n## Modify grades by adding 3 new values\ngrades = {25,33,45}\n\nprint (\"add new items to grades dictionary\",grades,\"\\n\\n\")\nprint (\"Dict 1 after adding new itesm to grades dictionary:\",dict1,\"\\n\\n\")\n\n\ndict2=dict1.copy() ## THis is a new copy of dict1 ; no impact if any chnage is done to dict1\nprint (\"dict 2 copied over from dict 1:\",dict2,\"\\n\\n\")\n",
            "execution_count": 46,
            "outputs": [
                {
                    "output_type": "stream",
                    "text": "grades dictionary : {1, 2, 3, 4, 5, 6, 7} \n\n\nDict 1 copied over from grades dictionary: {1, 2, 3, 4, 5, 6, 7} \n\n\nadd new items to grades dictionary {25, 45, 33} \n\n\nDict 1 after adding new itesm to grades dictionary: {1, 2, 3, 4, 5, 6, 7} \n\n\ndict 2 copied over from dict 1: {1, 2, 3, 4, 5, 6, 7} \n\n\n",
                    "name": "stdout"
                }
            ]
        },
        {
            "metadata": {
                "collapsed": true
            },
            "cell_type": "markdown",
            "source": "# Data FRame using Python\n##### A Sample script to understand the basics of Data Frames, loc and iloc functionality"
        },
        {
            "metadata": {},
            "cell_type": "code",
            "source": "import pandas as pd\nmyDict={\"EmpNo\":1,\"EmpName\":\"vee kay\",\"EmpDept\":25,\"EmpSalary\":12323.23,\"EmpDeductions\":4343.11}\nprint (myDict)\n##myDFrame=pd.DataFrame(myDict)\nprint (\"Emp NAMe :\", myDict[\"EmpName\"])\nprint (\"Dept : \" , myDict[\"EmpDept\"])\nprint (\"Emp No Value :\", myDict.get(\"EmpNo\"))\nprint (\"Get COlumn NAme for a given Value : \", myDict.get(\"25\"))",
            "execution_count": 19,
            "outputs": [
                {
                    "output_type": "stream",
                    "text": "{'EmpNo': 1, 'EmpName': 'vee kay', 'EmpDept': 25, 'EmpSalary': 12323.23, 'EmpDeductions': 4343.11}\nEmp NAMe : vee kay\nDept :  25\nEmp No Value : 1\nGet COlumn NAme for a given Value :  None\n",
                    "name": "stdout"
                }
            ]
        },
        {
            "metadata": {},
            "cell_type": "code",
            "source": "###Retrieve KEys of the DIctionary\nprint (\"Dict KEys :\",myDict.keys())\n## GEt values  of the dictionary\nprint (\"KEy Values :\",myDict.values())",
            "execution_count": 24,
            "outputs": [
                {
                    "output_type": "stream",
                    "text": "Dict KEys : dict_keys(['EmpNo', 'EmpName', 'EmpDept', 'EmpSalary', 'EmpDeductions'])\nKEy Values : dict_values([1, 'vee kay', 25, 12323.23, 4343.11])\n",
                    "name": "stdout"
                }
            ]
        },
        {
            "metadata": {},
            "cell_type": "code",
            "source": "## DIct to Dataframes\nimport numpy as np\nimport pandas as pd\n\n\nnewDict = {'EmpNo':[1,2,3,4,5],\n           'EmpNAme':['john','pete','harry','kumar','shiny'],\n           'EmpDept':[10,20,40,30,20],\n           'EmpSalary':[23434.12,8980.90,3233.13,9867.67,6577.23],\n           'EmpDeductions':[323.34,446.1,123.3,98.90,45.45]\n          }\n\n## LEngth of Dictionary\nprint (\"LEngth of the DIctionary :\",len(newDict),\"\\n\\n\")\n\ndf = pd.DataFrame(newDict)\nprint(\"My Data Frame : \\n\", df,\"\\n\\n\")",
            "execution_count": 49,
            "outputs": [
                {
                    "output_type": "stream",
                    "text": "LEngth of the DIctionary : 5 \n\n\nMy Data Frame : \n    EmpNo EmpNAme  EmpDept  EmpSalary  EmpDeductions\n0      1    john       10   23434.12         323.34\n1      2    pete       20    8980.90         446.10\n2      3   harry       40    3233.13         123.30\n3      4   kumar       30    9867.67          98.90\n4      5   shiny       20    6577.23          45.45 \n\n\n",
                    "name": "stdout"
                }
            ]
        },
        {
            "metadata": {},
            "cell_type": "code",
            "source": "### Retrieve out of Data Froma using basic methods\n### ALl rows and COlumns START with a INDEX \"0\"\n## THis will retrieve 5 rows but filter/skip by 2 rows - rows 1,3,5 -- odd rows will be displayed; Note\n## \"0\",  \"7\" within brackets are INDICES and NOT Column values; \n \ndf[0:7:2]\n\n## THis will retrieve 5 rows but filter/skip by 2 rows - rows 1,3,5 -- odd rows will be displayed; Note\ndf[0:7:3]",
            "execution_count": 59,
            "outputs": [
                {
                    "output_type": "execute_result",
                    "execution_count": 59,
                    "data": {
                        "text/plain": "   EmpNo EmpNAme  EmpDept  EmpSalary  EmpDeductions\n0      1    john       10   23434.12         323.34\n3      4   kumar       30    9867.67          98.90",
                        "text/html": "<div>\n<style scoped>\n    .dataframe tbody tr th:only-of-type {\n        vertical-align: middle;\n    }\n\n    .dataframe tbody tr th {\n        vertical-align: top;\n    }\n\n    .dataframe thead th {\n        text-align: right;\n    }\n</style>\n<table border=\"1\" class=\"dataframe\">\n  <thead>\n    <tr style=\"text-align: right;\">\n      <th></th>\n      <th>EmpNo</th>\n      <th>EmpNAme</th>\n      <th>EmpDept</th>\n      <th>EmpSalary</th>\n      <th>EmpDeductions</th>\n    </tr>\n  </thead>\n  <tbody>\n    <tr>\n      <th>0</th>\n      <td>1</td>\n      <td>john</td>\n      <td>10</td>\n      <td>23434.12</td>\n      <td>323.34</td>\n    </tr>\n    <tr>\n      <th>3</th>\n      <td>4</td>\n      <td>kumar</td>\n      <td>30</td>\n      <td>9867.67</td>\n      <td>98.90</td>\n    </tr>\n  </tbody>\n</table>\n</div>"
                    },
                    "metadata": {}
                }
            ]
        },
        {
            "metadata": {},
            "cell_type": "code",
            "source": "## Retrieve out of Data Frame using ILOC MEthod\nprint (\"complete Data Frame for reference : \\n\\n\",df,\"\\n\\n=======================\\n\\n\")\nprint (\"column 1 and row 1 :\\n\\n\", df.iloc[0:1,0:1])\nprint (\"\\n\\n=======================\\n\\n\")\nprint (\"columns (1,2) and Row(1,2) :\\n\\n\", df.iloc[0:2,0:2])\nprint (\"\\n\\n=======================\\n\\n\")\n\nprint (\"columns (1,3) and Row(1,3) :\\n\\n\", df.iloc[0:3,0:3])\nprint (\"\\n\\n=======================\\n\\n\")\n\nprint (\"columns (1,4) and Row(1,4) :\\n\\n\", df.iloc[0:4,0:4])\nprint (\"\\n\\n=======================\\n\\n\")\n\nprint (\"columns (1,5) and Row(1,5) :\\n\\n\", df.iloc[0:5,0:5])\nprint (\"\\n\\n=======================\\n\\n\")\n\nprint (\"All Rows, Skipping column by 1 :\\n\\n\", df.iloc[0:5,0:5:2])\n\nprint (\"All Columns , Skip ROW by 1 :\\n\\n\", df.iloc[0:5:2,0:5])\n\n",
            "execution_count": 78,
            "outputs": [
                {
                    "output_type": "stream",
                    "text": "complete Data Frame for reference : \n\n    EmpNo EmpNAme  EmpDept  EmpSalary  EmpDeductions\n0      1    john       10   23434.12         323.34\n1      2    pete       20    8980.90         446.10\n2      3   harry       40    3233.13         123.30\n3      4   kumar       30    9867.67          98.90\n4      5   shiny       20    6577.23          45.45 \n\n=======================\n\n\ncolumn 1 and row 1 :\n\n    EmpNo\n0      1\n\n\n=======================\n\n\ncolumns (1,2) and Row(1,2) :\n\n    EmpNo EmpNAme\n0      1    john\n1      2    pete\n\n\n=======================\n\n\ncolumns (1,3) and Row(1,3) :\n\n    EmpNo EmpNAme  EmpDept\n0      1    john       10\n1      2    pete       20\n2      3   harry       40\n\n\n=======================\n\n\ncolumns (1,4) and Row(1,4) :\n\n    EmpNo EmpNAme  EmpDept  EmpSalary\n0      1    john       10   23434.12\n1      2    pete       20    8980.90\n2      3   harry       40    3233.13\n3      4   kumar       30    9867.67\n\n\n=======================\n\n\ncolumns (1,5) and Row(1,5) :\n\n    EmpNo EmpNAme  EmpDept  EmpSalary  EmpDeductions\n0      1    john       10   23434.12         323.34\n1      2    pete       20    8980.90         446.10\n2      3   harry       40    3233.13         123.30\n3      4   kumar       30    9867.67          98.90\n4      5   shiny       20    6577.23          45.45\n\n\n=======================\n\n\nAll Rows, Skipping column by 1 :\n\n    EmpNo  EmpDept  EmpDeductions\n0      1       10         323.34\n1      2       20         446.10\n2      3       40         123.30\n3      4       30          98.90\n4      5       20          45.45\nAll Columns , Skip ROW by 1 :\n\n    EmpNo EmpNAme  EmpDept  EmpSalary  EmpDeductions\n0      1    john       10   23434.12         323.34\n2      3   harry       40    3233.13         123.30\n4      5   shiny       20    6577.23          45.45\n",
                    "name": "stdout"
                }
            ]
        },
        {
            "metadata": {},
            "cell_type": "code",
            "source": "## Retrieve out of Data Frame using LOC MEthod\nprint (\"complete Data Frame for reference : \\n\\n\",df,\"\\n\\n=======================\\n\\n\")\nprint (\"ONly 1st Row\\n\\n\",df.loc[0],\"\\n\\n\")\nprint (\"ONly 1st 2 Rows\\n\\n\",df.loc[0:1],\"\\n\\n\")\nprint (\"ALL Rows\\n\\n\",df.loc[:],\"\\n\\n\")\nprint (\"1 ROW & EMp NO & Emo NAme columsn only\\n\\n\",df.loc[0,['EmpNo','EmpNAme']])\nprint (\"1st 2 ROWs & EMp NO & Emo NAme columsn only\\n\\n\",df.loc[0:1,['EmpNo','EmpNAme']])\nprint (\"All ROWs & EMp NO & Emo NAme columsn only\\n\\n\",df.loc[:,['EmpNo','EmpNAme']])",
            "execution_count": 101,
            "outputs": [
                {
                    "output_type": "stream",
                    "text": "complete Data Frame for reference : \n\n    EmpNo EmpNAme  EmpDept  EmpSalary  EmpDeductions\n0      1    john       10   23434.12         323.34\n1      2    pete       20    8980.90         446.10\n2      3   harry       40    3233.13         123.30\n3      4   kumar       30    9867.67          98.90\n4      5   shiny       20    6577.23          45.45 \n\n=======================\n\n\nONly 1st Row\n\n EmpNo                   1\nEmpNAme              john\nEmpDept                10\nEmpSalary        23434.12\nEmpDeductions      323.34\nName: 0, dtype: object \n\n\nONly 1st 2 Rows\n\n    EmpNo EmpNAme  EmpDept  EmpSalary  EmpDeductions\n0      1    john       10   23434.12         323.34\n1      2    pete       20    8980.90         446.10 \n\n\nALL Rows\n\n    EmpNo EmpNAme  EmpDept  EmpSalary  EmpDeductions\n0      1    john       10   23434.12         323.34\n1      2    pete       20    8980.90         446.10\n2      3   harry       40    3233.13         123.30\n3      4   kumar       30    9867.67          98.90\n4      5   shiny       20    6577.23          45.45 \n\n\n1 ROW & EMp NO & Emo NAme columsn only\n\n EmpNo         1\nEmpNAme    john\nName: 0, dtype: object\n1st 2 ROWs & EMp NO & Emo NAme columsn only\n\n    EmpNo EmpNAme\n0      1    john\n1      2    pete\nAll ROWs & EMp NO & Emo NAme columsn only\n\n    EmpNo EmpNAme\n0      1    john\n1      2    pete\n2      3   harry\n3      4   kumar\n4      5   shiny\n",
                    "name": "stdout"
                }
            ]
        },
        {
            "metadata": {},
            "cell_type": "code",
            "source": "",
            "execution_count": null,
            "outputs": []
        }
    ],
    "metadata": {
        "kernelspec": {
            "name": "python3",
            "display_name": "Python 3.8",
            "language": "python"
        },
        "language_info": {
            "name": "python",
            "version": "3.8.11",
            "mimetype": "text/x-python",
            "codemirror_mode": {
                "name": "ipython",
                "version": 3
            },
            "pygments_lexer": "ipython3",
            "nbconvert_exporter": "python",
            "file_extension": ".py"
        }
    },
    "nbformat": 4,
    "nbformat_minor": 1
}