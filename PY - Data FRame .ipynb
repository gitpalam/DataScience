{
    "cells": [
        {
            "metadata": {
                "collapsed": true
            },
            "cell_type": "markdown",
            "source": "# Data FRame using Python\n##### A Sample script to understand the basics of Data Frames, loc and iloc functionality"
        },
        {
            "metadata": {},
            "cell_type": "code",
            "source": "import pandas as pd\nmyDict={\"EmpNo\":1,\"EmpName\":\"vee kay\",\"EmpDept\":25,\"EmpSalary\":12323.23,\"EmpDeductions\":4343.11}\nprint (myDict)\n##myDFrame=pd.DataFrame(myDict)\nprint (\"Emp NAMe :\", myDict[\"EmpName\"])\nprint (\"Dept : \" , myDict[\"EmpDept\"])\nprint (\"Emp No Value :\", myDict.get(\"EmpNo\"))\nprint (\"Get COlumn NAme for a given Value : \", myDict.get(\"25\"))",
            "execution_count": 19,
            "outputs": [
                {
                    "output_type": "stream",
                    "text": "{'EmpNo': 1, 'EmpName': 'vee kay', 'EmpDept': 25, 'EmpSalary': 12323.23, 'EmpDeductions': 4343.11}\nEmp NAMe : vee kay\nDept :  25\nEmp No Value : 1\nGet COlumn NAme for a given Value :  None\n",
                    "name": "stdout"
                }
            ]
        },
        {
            "metadata": {},
            "cell_type": "code",
            "source": "###Retrieve KEys of the DIctionary\nprint (\"Dict KEys :\",myDict.keys())\n## GEt values  of the dictionary\nprint (\"KEy Values :\",myDict.values())",
            "execution_count": 24,
            "outputs": [
                {
                    "output_type": "stream",
                    "text": "Dict KEys : dict_keys(['EmpNo', 'EmpName', 'EmpDept', 'EmpSalary', 'EmpDeductions'])\nKEy Values : dict_values([1, 'vee kay', 25, 12323.23, 4343.11])\n",
                    "name": "stdout"
                }
            ]
        },
        {
            "metadata": {},
            "cell_type": "code",
            "source": "## DIct to Dataframes\nimport numpy as np\nimport pandas as pd\n\n\nnewDict = {'EmpNo':[1,2,3,4,5],\n           'EmpNAme':['john','pete','harry','kumar','shiny'],\n           'EmpDept':[10,20,40,30,20],\n           'EmpSalary':[23434.12,8980.90,3233.13,9867.67,6577.23],\n           'EmpDeductions':[323.34,446.1,123.3,98.90,45.45]\n          }\n\nmyDframe = pd.DataFrame(newDict)\nprint(\"My Data Frame : \", myDframe)",
            "execution_count": 30,
            "outputs": [
                {
                    "output_type": "stream",
                    "text": "My Data Frame :     EmpNo EmpNAme  EmpDept  EmpSalary  EmpDeductions\n0      1    john       10   23434.12         323.34\n1      2    pete       20    8980.90         446.10\n2      3   harry       40    3233.13         123.30\n3      4   kumar       30    9867.67          98.90\n4      5   shiny       20    6577.23          45.45\n",
                    "name": "stdout"
                }
            ]
        },
        {
            "metadata": {},
            "cell_type": "code",
            "source": "",
            "execution_count": null,
            "outputs": []
        }
    ],
    "metadata": {
        "kernelspec": {
            "name": "python3",
            "display_name": "Python 3.8",
            "language": "python"
        },
        "language_info": {
            "name": "python",
            "version": "3.8.11",
            "mimetype": "text/x-python",
            "codemirror_mode": {
                "name": "ipython",
                "version": 3
            },
            "pygments_lexer": "ipython3",
            "nbconvert_exporter": "python",
            "file_extension": ".py"
        }
    },
    "nbformat": 4,
    "nbformat_minor": 1
}