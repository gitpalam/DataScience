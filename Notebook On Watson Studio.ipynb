{
    "cells": [
        {
            "cell_type": "markdown",
            "metadata": {},
            "source": "# Notebook Example On IBM Watson Studio"
        },
        {
            "cell_type": "code",
            "execution_count": null,
            "metadata": {},
            "outputs": [],
            "source": "**Author** : Vishwakumar Palamadai\n** Date**  : Oct, 12 2021"
        },
        {
            "cell_type": "code",
            "execution_count": null,
            "metadata": {},
            "outputs": [],
            "source": "## Installing BAsic Packages\ninstall.packages(\"ggplot2\")\ninstall.packages(\"tidyverse\")\ninstall.packages(\"palmerpenguins\")\n## Initializing PAckages\nlibrary(tidyverse)\nlibrary(ggplot2)\nlibrary(palmerpenguins)"
        },
        {
            "cell_type": "code",
            "execution_count": null,
            "metadata": {},
            "outputs": [],
            "source": "data(penguins)\nView(penguins)\nggplot(data = penguins)+\n  geom_point(mapping = aes(x = flipper_length_mm,y = body_mass_g, color=))"
        },
        {
            "cell_type": "code",
            "execution_count": null,
            "metadata": {},
            "outputs": [],
            "source": ""
        }
    ],
    "metadata": {
        "kernelspec": {
            "display_name": "R 3.6 with Spark",
            "language": "R",
            "name": "r"
        },
        "language_info": {
            "codemirror_mode": "r",
            "file_extension": ".r",
            "mimetype": "text/x-r-source",
            "name": "R",
            "pygments_lexer": "r",
            "version": "3.6.3"
        }
    },
    "nbformat": 4,
    "nbformat_minor": 1
}