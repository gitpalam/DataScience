{
    "cells": [
        {
            "cell_type": "markdown",
            "metadata": {},
            "source": "# My Jupyter Notebook on IBM Watson Studio"
        },
        {
            "cell_type": "markdown",
            "metadata": {},
            "source": "**Name**        : **Vishwakumar Palamadai**\n\n\n**Occcupation** : Data Engineering & Data Science"
        },
        {
            "cell_type": "markdown",
            "metadata": {},
            "source": "*I have analytical capabilities that can be  used to analyze datasets,  model for **New/Unknown Scenarios** and provide outcomes through **Visualization***  "
        },
        {
            "cell_type": "markdown",
            "metadata": {},
            "source": "### The below Code/output depicts a few **Conditional Statements** scenarios using **Python Scripting**"
        },
        {
            "cell_type": "code",
            "execution_count": 11,
            "metadata": {},
            "outputs": [
                {
                    "name": "stdout",
                    "output_type": "stream",
                    "text": "IO Statements - if else if Statements\n---------WHILE I-----------------------\n10\n9\n8\n7\n6\n5\n4\n3\n2\n1\nexiting loop\n---------WHILE II-----------------------\n1\n2\n3\n4\n5\n6\n7\n8\n9\n10\nexiting loop\n---------FOR-----------------------\n1\n2\n3\n4\n5\n"
                }
            ],
            "source": "print (\"IO Statements - if else if Statements\")\n\nx=10\nprint (\"---------WHILE I-----------------------\")\n\nwhile x >= 1:\n     print (x,)\n     #print (\"value of x is : \", x)\n     x-=1\n\nprint (\"exiting loop\")\n\nprint (\"---------WHILE II-----------------------\")\n\nx=1\nwhile x <= 10:\n     print (x,)\n     #print (\"value of x is : \", x)\n     x=x+1\n\nprint (\"exiting loop\")\n\nprint (\"---------FOR-----------------------\")\n\nfor i in (1,2,3,4,5):\n     print (i)"
        },
        {
            "cell_type": "markdown",
            "metadata": {},
            "source": "---\n##### Table Listing\n| Emp No        | Emp NAme           | Emp Dept    | Emp HireDate     | Emp Salary    |\n|---------------|--------------------|-------------|------------------|---------------|\n| E101          | Peter              | Accounting  | 01-jan-1998      | 800           |\n| E102          | John               | Sales       | 23-Jun-2001      | 2400          |\n| E103          | Harris             | Tech        | 07-Nov-2011      | 3125          |\n\n---\n##### Unique list of Employee Departments  - ~~Bullet List~~ Bullets\n\nDepartment\n* Accounting\n  * Finance\n  * Payroll\n* Sales\n* Marketing\n  * Advt.\n  * Online Surveys\n* HR\n  * Recruitment\n  * Training\n* Technology/Tech\n---\n\n##### Inline Hyper Links \n\n[IBM CLoud](https://cloud.ibm.com)\n\n---"
        },
        {
            "cell_type": "code",
            "execution_count": null,
            "metadata": {},
            "outputs": [],
            "source": ""
        }
    ],
    "metadata": {
        "kernelspec": {
            "display_name": "Python 3.8",
            "language": "python",
            "name": "python3"
        },
        "language_info": {
            "codemirror_mode": {
                "name": "ipython",
                "version": 3
            },
            "file_extension": ".py",
            "mimetype": "text/x-python",
            "name": "python",
            "nbconvert_exporter": "python",
            "pygments_lexer": "ipython3",
            "version": "3.8.11"
        }
    },
    "nbformat": 4,
    "nbformat_minor": 1
}